{
 "cells": [
  {
   "cell_type": "markdown",
   "id": "040e686b",
   "metadata": {},
   "source": [
    "1 - when  we making parelle chain make sure we update th thinks partially not properly or whole change the state when we returning "
   ]
  },
  {
   "cell_type": "code",
   "execution_count": null,
   "id": "d489c959",
   "metadata": {},
   "outputs": [],
   "source": [
    "import os\n",
    "from typing_extensions import TypedDict\n",
    "from dotenv import load_dotenv\n",
    "\n",
    "\n",
    "\n",
    "from langgraph.graph import StateGraph, START, END\n",
    "from langchain_google_genai import ChatGoogleGenerativeAI\n",
    "\n",
    "load_dotenv()\n",
    "gemini_api_key = os.getenv(\"GEMINI\")\n",
    "\n",
    "\n",
    "llm = ChatGoogleGenerativeAI(model=\"gemini-2.0-flash\", api_key=gemini_api_key)\n"
   ]
  },
  {
   "cell_type": "code",
   "execution_count": 15,
   "id": "e2fda19f",
   "metadata": {},
   "outputs": [],
   "source": [
    "class BlogPostState(TypedDict):\n",
    "    \"\"\"\n",
    "    Represents the state of the work flows.\n",
    "    Each node will update one of these fields.\n",
    "    \"\"\"\n",
    "    Topic: str\n",
    "    Title: str\n",
    "    Outline: str\n",
    "    Content: str\n",
    "    \n"
   ]
  },
  {
   "cell_type": "code",
   "execution_count": null,
   "id": "64d1cb8f",
   "metadata": {},
   "outputs": [],
   "source": [
    "def outline_generator(state: BlogPostState) -> BlogPostState:\n",
    "    \"\"\"\n",
    "    Generates a blog outline based on the topic.\n",
    "    This function must return the updated state dictionary.\n",
    "    \"\"\"\n",
    "    topic = state['Topic']\n",
    "    prompt = f\"Generate a detailed outline for a blog post about {topic}.\"\n",
    "    \n",
    "\n",
    "    outline = llm.invoke(prompt).content\n",
    "    \n",
    "    return {\"Outline\":outline}\n",
    "\n",
    "def title_generator(state: BlogPostState) -> BlogPostState:\n",
    "    \"\"\"\n",
    "    Generates a blog title based on the topic.\n",
    "    This function must return the updated state dictionary.\n",
    "    \"\"\"\n",
    "    topic = state[\"Topic\"]\n",
    "    prompt = f\"Generate a catchy, SEO friendly blog post title about the topic: {topic}.\"\n",
    "    \n",
    "\n",
    "    title = llm.invoke(prompt).content\n",
    "    \n",
    "    return {\"Title\": title}\n",
    "\n",
    "def content_generator(state: BlogPostState) -> BlogPostState:\n",
    "    \"\"\"\n",
    "    Generates the blog content based on the title and outline.\n",
    "    This function must return the updated state dictionary.\n",
    "    \"\"\"\n",
    "    title = state[\"Title\"]\n",
    "    outline = state[\"Outline\"]\n",
    "    \n",
    "\n",
    "    prompt = f\"Generate the content for a blog post with the title '{title}' and the following outline:\\n\\n{outline}\"\n",
    "    content= llm.invoke(prompt).content\n",
    "    \n",
    "    return {\"Content\":content}"
   ]
  },
  {
   "cell_type": "code",
   "execution_count": null,
   "id": "c5c0cc19",
   "metadata": {},
   "outputs": [
    {
     "name": "stdout",
     "output_type": "stream",
     "text": [
      "{'Topic': 'future of Ai in Hospitals', 'Title': 'Okay, here are a few catchy and SEO-friendly blog post titles about the future of AI in hospitals, designed to attract readers and rank well in search results:\\n\\n**Short & Punchy:**\\n\\n*   **AI in Hospitals: The Future is Now?**\\n*   **Hospitals of Tomorrow: Powered by AI**\\n*   **AI & Healthcare: A Vital Prescription for the Future**\\n\\n**More Descriptive & Benefit-Oriented:**\\n\\n*   **The AI Revolution in Hospitals: Better Care, Faster Results**\\n*   **Future-Proofing Hospitals: How AI is Transforming Healthcare**\\n*   **AI in Hospitals: How Artificial Intelligence is Saving Lives and Streamlining Care**\\n*   **Beyond the Scalpel: AI\\'s Impact on the Future of Hospital Care**\\n\\n**Question-Based (Intriguing):**\\n\\n*   **Will AI Replace Doctors? The Future of AI in Hospitals**\\n*   **AI in Hospitals: What\\'s Next for Patient Care?**\\n*   **Can AI Solve Healthcare\\'s Biggest Challenges? The Hospital of the Future**\\n\\n**Specific & Keyword-Rich:**\\n\\n*   **Artificial Intelligence in Hospitals: A Comprehensive Guide to the Future**\\n*   **AI-Powered Diagnostics and Treatment: The Future of Hospitals Unveiled**\\n*   **Predictive Analytics & AI: Transforming Patient Outcomes in Hospitals**\\n\\n**Tips for Choosing the Best Title:**\\n\\n*   **Consider your target audience:** Who are you trying to reach with your blog post?\\n*   **Think about the main benefit:** What will readers gain from reading your post?\\n*   **Use relevant keywords:** Include terms that people are likely to search for (e.g., \"AI,\" \"hospitals,\" \"healthcare,\" \"artificial intelligence,\" \"future\").\\n*   **Keep it concise:** Aim for a title that is easy to read and understand.\\n*   **Make it intriguing:** Use words that will pique people\\'s curiosity and make them want to click.\\n\\nWhen selecting, consider also what the main focus of your blog post is. Is it about diagnosis, treatment, efficiency, etc? Tailor the title to reflect that. Good luck!', 'Outline': '## Blog Post Outline: The Future of AI in Hospitals: Revolutionizing Healthcare\\n\\n**I. Introduction (Hook & Thesis)**\\n\\n*   **Hook:** Start with a compelling statistic or anecdote about a current hospital challenge (e.g., staff shortages, diagnostic errors, rising costs, patient wait times).\\n*   **Bridge:** Briefly introduce AI and its potential to address these challenges.\\n*   **Thesis Statement:**  AI is poised to revolutionize hospitals by improving efficiency, accuracy, and patient outcomes across various departments and procedures, but its successful integration requires careful consideration of ethical implications, data privacy, and workforce adaptation.\\n\\n**II. Current Applications of AI in Hospitals (Setting the Stage)**\\n\\n*   **A.  AI in Diagnostics:**\\n    *   Image Analysis (Radiology): Faster and more accurate detection of anomalies (e.g., tumors, fractures) in X-rays, CT scans, MRIs.\\n    *   Pathology: Automated analysis of tissue samples for cancer detection and grading.\\n    *   Early Disease Detection: Analyzing patient data (e.g., vital signs, lab results) to identify at-risk individuals and predict potential health issues.\\n*   **B.  AI in Administrative Tasks:**\\n    *   Automated Scheduling: Optimizing staff schedules to minimize understaffing and overstaffing.\\n    *   Billing and Claims Processing: Streamlining the insurance claim process and reducing administrative errors.\\n    *   Inventory Management:  Predicting supply needs and optimizing inventory levels to reduce waste and ensure availability.\\n*   **C.  AI in Patient Care:**\\n    *   Robotic Surgery: Assisting surgeons with complex procedures, enhancing precision and reducing invasiveness.\\n    *   Personalized Medicine: Tailoring treatment plans based on individual patient characteristics and genetic information.\\n    *   Virtual Assistants/Chatbots: Providing patients with information, answering questions, and scheduling appointments.\\n*   **D.  AI in Research and Development:**\\n    *   Drug Discovery: Accelerating the identification and development of new drugs.\\n    *   Clinical Trial Optimization:  Improving the efficiency and effectiveness of clinical trials.\\n    *   Predictive Modeling:  Analyzing large datasets to identify patterns and predict patient outcomes.\\n\\n**III. Future Potential of AI in Hospitals (The Revolution)**\\n\\n*   **A.  Enhanced Diagnostics and Personalized Treatment:**\\n    *   AI-powered \"Digital Twins\": Creating virtual replicas of patients to simulate treatment responses and optimize care plans.\\n    *   AI-driven Genomics: Analyzing patient genomes to identify genetic predispositions to diseases and personalize preventative measures.\\n    *   Real-time Patient Monitoring: Using wearable sensors and AI algorithms to continuously monitor patient vital signs and detect early signs of deterioration.\\n*   **B.  Autonomous Hospital Operations:**\\n    *   AI-powered Logistics:  Automated delivery of medications, supplies, and meals throughout the hospital.\\n    *   Smart Hospital Rooms:  Utilizing AI to optimize room temperature, lighting, and entertainment based on patient preferences.\\n    *   Predictive Maintenance:  Using AI to predict equipment failures and schedule maintenance proactively, minimizing downtime.\\n*   **C.  Improved Patient Experience:**\\n    *   AI-powered Language Translation: Breaking down communication barriers between patients and healthcare providers.\\n    *   Emotion AI:  Detecting patient emotions and tailoring interactions accordingly, improving patient satisfaction.\\n    *   AI-driven Concierge Services: Providing patients with personalized recommendations for entertainment, dining, and other amenities.\\n*   **D.  Revolutionizing Mental Healthcare:**\\n    *   AI-powered mental health assessment tools.\\n    *   AI-driven chatbots for accessible and continuous mental health support.\\n    *   Personalized therapy recommendations based on AI analysis of patient data.\\n\\n**IV. Challenges and Concerns (The Obstacles)**\\n\\n*   **A.  Ethical Considerations:**\\n    *   Bias in Algorithms:  Ensuring that AI algorithms are fair and do not discriminate against certain patient populations.\\n    *   Transparency and Explainability:  Understanding how AI algorithms make decisions and ensuring that they are transparent and explainable to healthcare professionals and patients.\\n    *   Accountability:  Determining who is responsible when AI makes an error.\\n*   **B.  Data Privacy and Security:**\\n    *   Protecting patient data from unauthorized access and breaches.\\n    *   Ensuring compliance with data privacy regulations (e.g., HIPAA).\\n    *   Building trust with patients regarding the use of their data.\\n*   **C.  Workforce Adaptation:**\\n    *   Training healthcare professionals to use AI tools effectively.\\n    *   Addressing concerns about job displacement.\\n    *   Redefining roles and responsibilities in the age of AI.\\n*   **D.  Cost and Implementation:**\\n    *   High initial investment costs for AI technologies.\\n    *   Challenges in integrating AI systems with existing hospital infrastructure.\\n    *   Demonstrating the return on investment (ROI) of AI implementations.\\n\\n**V.  Overcoming Challenges & Ensuring Responsible Implementation (The Solution)**\\n\\n*   **A.  Prioritizing Ethical AI Development:**\\n    *   Developing AI algorithms that are fair, transparent, and accountable.\\n    *   Establishing ethical guidelines and regulations for the use of AI in healthcare.\\n*   **B.  Strengthening Data Privacy and Security:**\\n    *   Implementing robust security measures to protect patient data.\\n    *   Adhering to data privacy regulations and obtaining patient consent.\\n*   **C.  Investing in Workforce Training and Education:**\\n    *   Providing healthcare professionals with the training they need to use AI tools effectively.\\n    *   Promoting collaboration between humans and AI.\\n*   **D.  Strategic Implementation and Evaluation:**\\n    *   Starting with small-scale AI projects and scaling up gradually.\\n    *   Monitoring the performance of AI systems and making adjustments as needed.\\n    *   Measuring the impact of AI on patient outcomes, efficiency, and costs.\\n*   **E. Collaboration and Standardization:**\\n    *   Encouraging collaboration between hospitals, AI developers, and regulatory agencies.\\n    *   Developing industry standards for AI in healthcare to ensure interoperability and safety.\\n\\n**VI. Conclusion (Reiterate Thesis & Call to Action)**\\n\\n*   **Restate Thesis:**  Reiterate the transformative potential of AI in hospitals, emphasizing the need for responsible implementation.\\n*   **Future Outlook:**  Paint a vision of the future of healthcare powered by AI, highlighting the benefits for patients, providers, and the healthcare system as a whole.\\n*   **Call to Action:**  Encourage readers to learn more about AI in healthcare, advocate for responsible implementation, and support initiatives that promote innovation and collaboration.  Examples:  \"Stay informed,\" \"Participate in discussions,\" \"Support research.\"', 'Content': 'Okay, here\\'s a blog post based on the outline, incorporating the catchy titles and focusing on a specific angle (improving efficiency and outcomes):\\n\\n**Title: AI in Hospitals: How Artificial Intelligence is Saving Lives and Streamlining Care**\\n\\n**I. Introduction (Hook & Thesis)**\\n\\nHospitals are facing a crisis. Staff shortages are rampant, diagnostic errors plague even the best institutions, and rising costs threaten to bankrupt the system.  For example, studies show that diagnostic errors contribute to approximately 10% of patient deaths. Is there a solution? Artificial intelligence (AI) offers a powerful tool to tackle these challenges head-on.\\n\\nAI is poised to revolutionize hospitals by improving efficiency, accuracy, and patient outcomes across various departments and procedures, but its successful integration requires careful consideration of ethical implications, data privacy, and workforce adaptation. This isn\\'t just about technology; it\\'s about building a better, more effective, and more compassionate healthcare system.\\n\\n**II. Current Applications of AI in Hospitals (Setting the Stage)**\\n\\nAI isn\\'t a futuristic fantasy in hospitals; it\\'s already here, impacting everything from diagnosis to administration:\\n\\n*   **A. AI in Diagnostics:**\\n    *   **Image Analysis (Radiology):** AI algorithms are analyzing X-rays, CT scans, and MRIs with remarkable speed and accuracy, detecting subtle anomalies like tumors and fractures that might be missed by the human eye.\\n    *   **Pathology:**  Automated analysis of tissue samples is accelerating cancer detection and grading, allowing for faster treatment decisions.\\n    *   **Early Disease Detection:**  AI analyzes patient data, including vital signs and lab results, to identify at-risk individuals and predict potential health issues before they become critical.\\n\\n*   **B. AI in Administrative Tasks:**\\n    *   **Automated Scheduling:**  AI optimizes staff schedules, ensuring adequate coverage and reducing both understaffing and costly overstaffing situations.\\n    *   **Billing and Claims Processing:** AI streamlines the often-complex insurance claim process, minimizing administrative errors and speeding up reimbursements.\\n    *   **Inventory Management:** AI predicts supply needs and optimizes inventory levels, reducing waste and ensuring critical supplies are always available.\\n\\n*   **C. AI in Patient Care:**\\n    *   **Robotic Surgery:**  Robotic systems, guided by AI, assist surgeons with complex procedures, enhancing precision, minimizing invasiveness, and shortening recovery times.\\n    *   **Personalized Medicine:**  AI analyzes individual patient characteristics, including genetic information, to tailor treatment plans for maximum effectiveness.\\n    *   **Virtual Assistants/Chatbots:**  These AI-powered assistants provide patients with instant access to information, answer common questions, and even schedule appointments, freeing up human staff for more complex tasks.\\n\\n*   **D. AI in Research and Development:**\\n    *   **Drug Discovery:** AI accelerates the identification and development of new drugs by analyzing vast datasets and predicting the efficacy of potential compounds.\\n    *   **Clinical Trial Optimization:** AI improves the efficiency and effectiveness of clinical trials by identifying suitable participants and predicting trial outcomes.\\n    *   **Predictive Modeling:** AI analyzes large datasets to identify patterns and predict patient outcomes, leading to more proactive and personalized care.\\n\\n**III. Future Potential of AI in Hospitals (The Revolution)**\\n\\nThe current applications are just the tip of the iceberg. The future holds even more transformative possibilities:\\n\\n*   **A. Enhanced Diagnostics and Personalized Treatment:**\\n    *   **AI-powered \"Digital Twins\":** Imagine creating virtual replicas of patients to simulate treatment responses and optimize care plans *before* administering them in real life. This is the power of digital twins.\\n    *   **AI-driven Genomics:** AI can analyze patient genomes to identify genetic predispositions to diseases and personalize preventative measures, leading to truly personalized medicine.\\n    *   **Real-time Patient Monitoring:** Wearable sensors and AI algorithms will continuously monitor patient vital signs, detecting early signs of deterioration and triggering timely interventions.\\n\\n*   **B. Autonomous Hospital Operations:**\\n    *   **AI-powered Logistics:** Automated delivery systems will transport medications, supplies, and meals throughout the hospital, improving efficiency and reducing human error.\\n    *   **Smart Hospital Rooms:** AI will optimize room temperature, lighting, and entertainment based on individual patient preferences, creating a more comfortable and healing environment.\\n    *   **Predictive Maintenance:** AI will predict equipment failures and schedule maintenance proactively, minimizing downtime and preventing costly repairs.\\n\\n*   **C. Improved Patient Experience:**\\n    *   **AI-powered Language Translation:**  AI will break down communication barriers between patients and healthcare providers, ensuring clear and accurate communication regardless of language.\\n    *   **Emotion AI:** AI can detect patient emotions and tailor interactions accordingly, improving patient satisfaction and creating a more empathetic healthcare experience.\\n    *   **AI-driven Concierge Services:** AI will provide patients with personalized recommendations for entertainment, dining, and other amenities, making their hospital stay more comfortable and enjoyable.\\n\\n*   **D. Revolutionizing Mental Healthcare:**\\n    *   **AI-powered mental health assessment tools:** Offering quick and efficient initial screenings.\\n    *   **AI-driven chatbots for accessible and continuous mental health support:** Providing 24/7 support and guidance.\\n    *   **Personalized therapy recommendations based on AI analysis of patient data:** Matching patients with the most appropriate therapeutic approaches.\\n\\n**IV. Challenges and Concerns (The Obstacles)**\\n\\nWhile the potential is immense, we must address the challenges:\\n\\n*   **A. Ethical Considerations:**\\n    *   **Bias in Algorithms:** We must ensure that AI algorithms are fair and do not discriminate against certain patient populations.\\n    *   **Transparency and Explainability:** Understanding how AI algorithms make decisions is crucial.  They must be transparent and explainable to healthcare professionals and patients.\\n    *   **Accountability:**  Who is responsible when AI makes an error? This needs to be clearly defined.\\n\\n*   **B. Data Privacy and Security:**\\n    *   Protecting patient data from unauthorized access and breaches is paramount.\\n    *   Ensuring compliance with data privacy regulations (e.g., HIPAA) is non-negotiable.\\n    *   Building trust with patients regarding the use of their data is essential.\\n\\n*   **C. Workforce Adaptation:**\\n    *   Training healthcare professionals to use AI tools effectively is critical.\\n    *   Addressing concerns about job displacement requires proactive planning and support.\\n    *   Redefining roles and responsibilities in the age of AI is necessary.\\n\\n*   **D. Cost and Implementation:**\\n    *   High initial investment costs for AI technologies can be a barrier.\\n    *   Integrating AI systems with existing hospital infrastructure can be complex.\\n    *   Demonstrating the return on investment (ROI) of AI implementations is essential for securing funding and support.\\n\\n**V. Overcoming Challenges & Ensuring Responsible Implementation (The Solution)**\\n\\nWe can unlock AI\\'s full potential by addressing these concerns proactively:\\n\\n*   **A. Prioritizing Ethical AI Development:**\\n    *   Developing AI algorithms that are fair, transparent, and accountable is paramount.\\n    *   Establishing ethical guidelines and regulations for the use of AI in healthcare is crucial.\\n\\n*   **B. Strengthening Data Privacy and Security:**\\n    *   Implementing robust security measures to protect patient data is essential.\\n    *   Adhering to data privacy regulations and obtaining patient consent is non-negotiable.\\n\\n*   **C. Investing in Workforce Training and Education:**\\n    *   Providing healthcare professionals with the training they need to use AI tools effectively is critical.\\n    *   Promoting collaboration between humans and AI is key to maximizing the benefits.\\n\\n*   **D. Strategic Implementation and Evaluation:**\\n    *   Starting with small-scale AI projects and scaling up gradually is a smart approach.\\n    *   Monitoring the performance of AI systems and making adjustments as needed is essential.\\n    *   Measuring the impact of AI on patient outcomes, efficiency, and costs is crucial for demonstrating ROI.\\n\\n*   **E. Collaboration and Standardization:**\\n    *   Encouraging collaboration between hospitals, AI developers, and regulatory agencies is key.\\n    *   Developing industry standards for AI in healthcare will ensure interoperability and safety.\\n\\n**VI. Conclusion (Reiterate Thesis & Call to Action)**\\n\\nAI offers a transformative opportunity to revolutionize hospitals, leading to improved efficiency, better patient outcomes, and a more sustainable healthcare system. However, responsible implementation is paramount. We must prioritize ethical considerations, data privacy, and workforce adaptation to ensure that AI benefits all stakeholders.\\n\\nThe future of healthcare is undeniably intertwined with AI. Imagine a world where diseases are detected earlier, treatments are personalized to individual needs, and hospital operations are streamlined and efficient.  This future is within our reach.\\n\\nNow is the time to act. Stay informed about the latest developments in AI in healthcare, participate in discussions about its ethical implications, and support research and initiatives that promote innovation and collaboration. Together, we can harness the power of AI to build a healthier future for all.'}\n"
     ]
    }
   ],
   "source": [
    "\n",
    "\n",
    "\n",
    "\n",
    "graph = StateGraph(BlogPostState)\n",
    "\n",
    "# Add the nodes that perform each step\n",
    "graph.add_node(\"title\", title_generator)\n",
    "graph.add_node(\"outline\", outline_generator)\n",
    "graph.add_node(\"content\", content_generator)\n",
    "\n",
    "\n",
    "graph.add_edge(START, \"title\")\n",
    "graph.add_edge(START, \"outline\")\n",
    "\n",
    "\n",
    "graph.add_edge(\"title\", \"content\")\n",
    "graph.add_edge(\"outline\", \"content\")\n",
    "\n",
    "\n",
    "graph.add_edge(\"content\", END)\n",
    "\n",
    "\n",
    "workflow = graph.compile()\n",
    "\n",
    "\n",
    "initial_state = {\n",
    "    \"Topic\": \"future of Ai in Hospitals\", \n",
    "    \"Title\": \"\",\n",
    "    \"Outline\": \"\",\n",
    "    \"Content\": \"\",\n",
    "}\n",
    "\n",
    "\n",
    "final_state = workflow.invoke(initial_state)\n",
    "print(final_state)"
   ]
  },
  {
   "cell_type": "code",
   "execution_count": 20,
   "id": "d5de2e06",
   "metadata": {},
   "outputs": [
    {
     "data": {
      "image/png": "[encoded data removed]",
      "text/plain": [
       "<IPython.core.display.Image object>"
      ]
     },
     "execution_count": 20,
     "metadata": {},
     "output_type": "execute_result"
    }
   ],
   "source": [
    "from IPython.display import Image\n",
    "Image(workflow.get_graph().draw_mermaid_png()) "
   ]
  }
 ],
 "metadata": {
  "kernelspec": {
   "display_name": "LG",
   "language": "python",
   "name": "python3"
  },
  "language_info": {
   "codemirror_mode": {
    "name": "ipython",
    "version": 3
   },
   "file_extension": ".py",
   "mimetype": "text/x-python",
   "name": "python",
   "nbconvert_exporter": "python",
   "pygments_lexer": "ipython3",
   "version": "3.13.2"
  }
 },
 "nbformat": 4,
 "nbformat_minor": 5
}
